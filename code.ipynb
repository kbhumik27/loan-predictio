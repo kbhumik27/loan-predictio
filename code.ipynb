{
 "cells": [
  {
   "cell_type": "code",
   "execution_count": 30,
   "id": "59262bbd",
   "metadata": {},
   "outputs": [
    {
     "name": "stdout",
     "output_type": "stream",
     "text": [
      "<class 'pandas.core.frame.DataFrame'>\n",
      "RangeIndex: 4269 entries, 0 to 4268\n",
      "Data columns (total 15 columns):\n",
      " #   Column                     Non-Null Count  Dtype\n",
      "---  ------                     --------------  -----\n",
      " 0   loan_id                    4269 non-null   int64\n",
      " 1    no_of_dependents          4269 non-null   int64\n",
      " 2    income_annum              4269 non-null   int64\n",
      " 3    loan_amount               4269 non-null   int64\n",
      " 4    loan_term                 4269 non-null   int64\n",
      " 5    cibil_score               4269 non-null   int64\n",
      " 6    residential_assets_value  4269 non-null   int64\n",
      " 7    commercial_assets_value   4269 non-null   int64\n",
      " 8    luxury_assets_value       4269 non-null   int64\n",
      " 9    bank_asset_value          4269 non-null   int64\n",
      " 10   loan_status               4269 non-null   int32\n",
      " 11   education_ Graduate       4269 non-null   bool \n",
      " 12   education_ Not Graduate   4269 non-null   bool \n",
      " 13   self_employed_ No         4269 non-null   bool \n",
      " 14   self_employed_ Yes        4269 non-null   bool \n",
      "dtypes: bool(4), int32(1), int64(10)\n",
      "memory usage: 367.0 KB\n",
      "Logistic Regression Accuracy:  0.6370023419203747\n"
     ]
    }
   ],
   "source": [
    "\n",
    "import pandas as pd\n",
    "\n",
    "# Read the dataset into a DataFrame\n",
    "df = pd.read_csv('loan_approval_dataset.csv')\n",
    "\n",
    "# Now you can use 'df' to work with your dataset\n",
    "encoded_df=pd.get_dummies(df, prefix=None, prefix_sep='_', dummy_na=False, columns=[' education', ' self_employed'], sparse=False, drop_first=False, dtype=None)\n",
    "encoded_df.drop(['loan_id'], axis=1)\n",
    "from sklearn.preprocessing import LabelEncoder\n",
    "le = LabelEncoder()\n",
    "from sklearn.preprocessing import LabelEncoder\n",
    "le = LabelEncoder()\n",
    "encoded_df[' loan_status'] = le.fit_transform(encoded_df[' loan_status'])\n",
    "encoded_df.info()\n",
    "x = encoded_df.drop(columns=[' loan_status']) #attributes\n",
    "y = encoded_df[' loan_status'] #target\n",
    "import numpy as np\n",
    "from sklearn.model_selection import train_test_split\n",
    "# Split the data into training and testing sets\n",
    "X_train, X_test, y_train, y_test = train_test_split(x, y, test_size=0.2, random_state=42)\n",
    "\n",
    "# Initialize and train the logistic regression model\n",
    "lr = LogisticRegression()\n",
    "lr.fit(X_train, y_train)\n",
    "\n",
    "# Make predictions on the testing set\n",
    "y_pred = lr.predict(X_test)\n",
    "\n",
    "# Calculate accuracy score\n",
    "accuracy = accuracy_score(y_test, y_pred)\n",
    "print(\"Logistic Regression Accuracy: \", accuracy)\n"
   ]
  },
  {
   "cell_type": "code",
   "execution_count": null,
   "id": "9aa998ae",
   "metadata": {},
   "outputs": [],
   "source": []
  },
  {
   "cell_type": "code",
   "execution_count": null,
   "id": "2f2c28e7",
   "metadata": {},
   "outputs": [],
   "source": []
  }
 ],
 "metadata": {
  "kernelspec": {
   "display_name": "Python 3 (ipykernel)",
   "language": "python",
   "name": "python3"
  },
  "language_info": {
   "codemirror_mode": {
    "name": "ipython",
    "version": 3
   },
   "file_extension": ".py",
   "mimetype": "text/x-python",
   "name": "python",
   "nbconvert_exporter": "python",
   "pygments_lexer": "ipython3",
   "version": "3.11.5"
  }
 },
 "nbformat": 4,
 "nbformat_minor": 5
}
